{
 "cells": [
  {
   "cell_type": "markdown",
   "metadata": {},
   "source": [
    "# Temperature and Rainfall Analysis using PyCaret - Regression"
   ]
  },
  {
   "cell_type": "markdown",
   "metadata": {},
   "source": [
    "### Step 1: Merging the dataset"
   ]
  },
  {
   "cell_type": "code",
   "execution_count": 2,
   "metadata": {
    "ExecuteTime": {
     "end_time": "2023-05-26T21:57:36.319696Z",
     "start_time": "2023-05-26T21:57:32.510811Z"
    }
   },
   "outputs": [
    {
     "data": {
      "text/plain": "   YEAR   LOW TEMP  HIGH TEMP  RAINFALL\n0  1964  52.980822  74.909589  0.196011\n1  1965  52.030137  74.164384  0.123014\n2  1966  51.624658  73.520548  0.131699\n3  1967  52.408219  75.449315  0.116438\n4  1968  53.278689  75.653005  0.094740",
      "text/html": "<div>\n<style scoped>\n    .dataframe tbody tr th:only-of-type {\n        vertical-align: middle;\n    }\n\n    .dataframe tbody tr th {\n        vertical-align: top;\n    }\n\n    .dataframe thead th {\n        text-align: right;\n    }\n</style>\n<table border=\"1\" class=\"dataframe\">\n  <thead>\n    <tr style=\"text-align: right;\">\n      <th></th>\n      <th>YEAR</th>\n      <th>LOW TEMP</th>\n      <th>HIGH TEMP</th>\n      <th>RAINFALL</th>\n    </tr>\n  </thead>\n  <tbody>\n    <tr>\n      <th>0</th>\n      <td>1964</td>\n      <td>52.980822</td>\n      <td>74.909589</td>\n      <td>0.196011</td>\n    </tr>\n    <tr>\n      <th>1</th>\n      <td>1965</td>\n      <td>52.030137</td>\n      <td>74.164384</td>\n      <td>0.123014</td>\n    </tr>\n    <tr>\n      <th>2</th>\n      <td>1966</td>\n      <td>51.624658</td>\n      <td>73.520548</td>\n      <td>0.131699</td>\n    </tr>\n    <tr>\n      <th>3</th>\n      <td>1967</td>\n      <td>52.408219</td>\n      <td>75.449315</td>\n      <td>0.116438</td>\n    </tr>\n    <tr>\n      <th>4</th>\n      <td>1968</td>\n      <td>53.278689</td>\n      <td>75.653005</td>\n      <td>0.094740</td>\n    </tr>\n  </tbody>\n</table>\n</div>"
     },
     "execution_count": 2,
     "metadata": {},
     "output_type": "execute_result"
    }
   ],
   "source": [
    "import pandas as pd\n",
    "\n",
    "temperature_df = pd.read_excel('dataset/Temp_SRS_1Jan1964_to_31Oct2020.xlsx')\n",
    "rainfall_df = pd.read_csv('dataset/Rainfall_at_SRS_30Nov1960_to_18Nov2020.csv')\n",
    "\n",
    "rainfall_df = rainfall_df.fillna(0)\n",
    "\n",
    "temperature_df['DATE'] = pd.to_datetime(temperature_df['DATE'], format='%Y-%m-%d')\n",
    "rainfall_df['DATE'] = pd.to_datetime(rainfall_df['DATE'], format='%m/%d/%Y')\n",
    "\n",
    "temperature_df['YEAR'] = pd.to_datetime(temperature_df.DATE).dt.year\n",
    "rainfall_df['YEAR'] = pd.to_datetime(rainfall_df.DATE).dt.year\n",
    "\n",
    "temperature_df_grouped = temperature_df.groupby('YEAR').agg({'LOW TEMP': 'mean', 'HIGH TEMP': 'mean'})\n",
    "temperature_df_grouped['RAINFALL'] = rainfall_df.groupby('YEAR').agg({'200-F Rainfall (inches/day)': 'mean'})\n",
    "rain_temp_df = pd.merge(temperature_df, rainfall_df, on='DATE')\n",
    "temperature_df_grouped.reset_index(inplace=True)\n",
    "temperature_df_grouped.head()\n",
    "# print(rain_temp_df.head(10))"
   ]
  },
  {
   "cell_type": "markdown",
   "source": [
    "## Predicting rainfall using average yearly maximum and minimum temperatures using LSTM"
   ],
   "metadata": {
    "collapsed": false
   }
  },
  {
   "cell_type": "code",
   "execution_count": 14,
   "outputs": [
    {
     "data": {
      "text/plain": "<IPython.core.display.HTML object>",
      "text/html": ""
     },
     "metadata": {},
     "output_type": "display_data"
    }
   ],
   "source": [
    "from pycaret.time_series import *\n",
    "\n",
    "train_df = temperature_df_grouped.query('YEAR < 2010')\n",
    "test_df = temperature_df_grouped.query('YEAR >= 2010')\n",
    "\n",
    "reg = setup(data=train_df, target='RAINFALL')\n",
    "\n",
    "model = models()\n"
   ],
   "metadata": {
    "collapsed": false,
    "ExecuteTime": {
     "end_time": "2023-05-26T22:26:18.454870Z",
     "start_time": "2023-05-26T22:26:18.206805Z"
    }
   }
  }
 ],
 "metadata": {
  "kernelspec": {
   "display_name": "Python 3 (ipykernel)",
   "language": "python",
   "name": "python3"
  },
  "language_info": {
   "codemirror_mode": {
    "name": "ipython",
    "version": 3
   },
   "file_extension": ".py",
   "mimetype": "text/x-python",
   "name": "python",
   "nbconvert_exporter": "python",
   "pygments_lexer": "ipython3",
   "version": "3.10.11"
  }
 },
 "nbformat": 4,
 "nbformat_minor": 1
}
